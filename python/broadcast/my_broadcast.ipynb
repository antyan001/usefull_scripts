{
 "cells": [
  {
   "cell_type": "code",
   "execution_count": 1,
   "id": "d6e960de-f943-4c2e-96c5-5ee290fbec32",
   "metadata": {
    "tags": []
   },
   "outputs": [],
   "source": [
    "# import logging\n",
    "# logging.basicConfig(filename='./_sshwalker_.log',level=logging.ERROR,\n",
    "#                     format='%(asctime)s %(levelname)s %(name)s %(message)s')\n",
    "# logger = logging.getLogger(__name__)\n",
    "\n",
    "import warnings\n",
    "warnings.filterwarnings('ignore')\n",
    "\n",
    "import os\n",
    "import sys\n",
    "from pathlib import Path\n",
    "import time\n",
    "from sshloader import Ssh\n",
    "from time import sleep\n",
    "from tqdm import tqdm\n",
    "import getpass"
   ]
  },
  {
   "cell_type": "code",
   "execution_count": 2,
   "id": "037176b1-f8bf-416a-84dd-c037b9c407e8",
   "metadata": {},
   "outputs": [],
   "source": [
    "curruser = os.environ.get('USER')"
   ]
  },
  {
   "cell_type": "code",
   "execution_count": 3,
   "id": "2a08a818-b89a-42c3-ad21-a276fe47af92",
   "metadata": {},
   "outputs": [
    {
     "name": "stdin",
     "output_type": "stream",
     "text": [
      " ·············\n"
     ]
    }
   ],
   "source": [
    "# specify your username and password:\n",
    "__username = curruser\n",
    "__pass     = getpass.getpass()\n",
    "jupyterPass = 'Pandora72'\n",
    "jupyterPort ='8008'"
   ]
  },
  {
   "cell_type": "code",
   "execution_count": 4,
   "id": "dcc36ffc-8898-4260-b09f-38fd8619e3bd",
   "metadata": {
    "tags": []
   },
   "outputs": [],
   "source": [
    "chdNodesList = [\"pklis-chd00{}.labiac.df.sbrf.ru\".format(i) for i in range(1973, 2004+1) if i != 1995]"
   ]
  },
  {
   "cell_type": "code",
   "execution_count": 5,
   "id": "adcdcfd1-4fea-4a95-a9d1-3d11ea857c97",
   "metadata": {
    "tags": []
   },
   "outputs": [
    {
     "name": "stdout",
     "output_type": "stream",
     "text": [
      "pklis-chd001973.labiac.df.sbrf.ru\n",
      "pklis-chd001974.labiac.df.sbrf.ru\n",
      "pklis-chd001975.labiac.df.sbrf.ru\n",
      "pklis-chd001976.labiac.df.sbrf.ru\n",
      "pklis-chd001977.labiac.df.sbrf.ru\n",
      "pklis-chd001978.labiac.df.sbrf.ru\n",
      "pklis-chd001979.labiac.df.sbrf.ru\n",
      "pklis-chd001980.labiac.df.sbrf.ru\n",
      "pklis-chd001981.labiac.df.sbrf.ru\n",
      "pklis-chd001982.labiac.df.sbrf.ru\n",
      "pklis-chd001983.labiac.df.sbrf.ru\n",
      "pklis-chd001984.labiac.df.sbrf.ru\n",
      "pklis-chd001985.labiac.df.sbrf.ru\n",
      "pklis-chd001986.labiac.df.sbrf.ru\n",
      "pklis-chd001987.labiac.df.sbrf.ru\n",
      "pklis-chd001988.labiac.df.sbrf.ru\n",
      "pklis-chd001989.labiac.df.sbrf.ru\n",
      "pklis-chd001990.labiac.df.sbrf.ru\n",
      "pklis-chd001991.labiac.df.sbrf.ru\n",
      "pklis-chd001992.labiac.df.sbrf.ru\n",
      "pklis-chd001993.labiac.df.sbrf.ru\n",
      "pklis-chd001994.labiac.df.sbrf.ru\n",
      "pklis-chd001996.labiac.df.sbrf.ru\n",
      "pklis-chd001997.labiac.df.sbrf.ru\n",
      "pklis-chd001998.labiac.df.sbrf.ru\n",
      "pklis-chd001999.labiac.df.sbrf.ru\n",
      "pklis-chd002000.labiac.df.sbrf.ru\n",
      "pklis-chd002001.labiac.df.sbrf.ru\n",
      "pklis-chd002002.labiac.df.sbrf.ru\n",
      "pklis-chd002003.labiac.df.sbrf.ru\n",
      "pklis-chd002004.labiac.df.sbrf.ru\n"
     ]
    }
   ],
   "source": [
    "print('\\n'.join(chdNodesList))"
   ]
  },
  {
   "cell_type": "code",
   "execution_count": 6,
   "id": "d3834b52-18a0-49fb-959a-53b357aea242",
   "metadata": {},
   "outputs": [],
   "source": [
    "home_dir = f'/home/{__username}'"
   ]
  },
  {
   "cell_type": "code",
   "execution_count": 7,
   "id": "1b8bce94-1f9b-4a1a-a1d9-1005ef7d8a04",
   "metadata": {},
   "outputs": [],
   "source": [
    "def remote_command(_ssh, command):\n",
    "    stdin, stdout, stderr = _ssh.ssh.exec_command(command)\n",
    "    outlines = stderr.readlines()\n",
    "    for line in outlines:\n",
    "        print(line.strip())\n",
    "\n",
    "def remote_output(_ssh, command):\n",
    "    stdin, stdout, stderr = _ssh.ssh.exec_command(command)\n",
    "    outlines = stdout.readlines()\n",
    "    for line in outlines:\n",
    "        print(line.strip())\n"
   ]
  },
  {
   "cell_type": "code",
   "execution_count": 8,
   "id": "6f3d6be4-f8b9-4210-9c7b-7488cdececb7",
   "metadata": {},
   "outputs": [
    {
     "name": "stdout",
     "output_type": "stream",
     "text": [
      "pklis-chd001973.labiac.df.sbrf.ru\n",
      "pklis-chd001974.labiac.df.sbrf.ru\n",
      "pklis-chd001975.labiac.df.sbrf.ru\n",
      "pklis-chd001976.labiac.df.sbrf.ru\n",
      "pklis-chd001977.labiac.df.sbrf.ru\n",
      "pklis-chd001978.labiac.df.sbrf.ru\n",
      "pklis-chd001979.labiac.df.sbrf.ru\n",
      "pklis-chd001980.labiac.df.sbrf.ru\n",
      "pklis-chd001981.labiac.df.sbrf.ru\n",
      "pklis-chd001982.labiac.df.sbrf.ru\n",
      "pklis-chd001983.labiac.df.sbrf.ru\n",
      "pklis-chd001984.labiac.df.sbrf.ru\n",
      "pklis-chd001985.labiac.df.sbrf.ru\n",
      "pklis-chd001986.labiac.df.sbrf.ru\n",
      "pklis-chd001987.labiac.df.sbrf.ru\n",
      "pklis-chd001988.labiac.df.sbrf.ru\n",
      "pklis-chd001989.labiac.df.sbrf.ru\n",
      "pklis-chd001990.labiac.df.sbrf.ru\n",
      "pklis-chd001991.labiac.df.sbrf.ru\n",
      "pklis-chd001992.labiac.df.sbrf.ru\n",
      "pklis-chd001993.labiac.df.sbrf.ru\n",
      "pklis-chd001994.labiac.df.sbrf.ru\n",
      "pklis-chd001996.labiac.df.sbrf.ru\n",
      "pklis-chd001997.labiac.df.sbrf.ru\n",
      "pklis-chd001998.labiac.df.sbrf.ru\n",
      "pklis-chd001999.labiac.df.sbrf.ru\n",
      "pklis-chd002000.labiac.df.sbrf.ru\n",
      "pklis-chd002001.labiac.df.sbrf.ru\n",
      "pklis-chd002002.labiac.df.sbrf.ru\n",
      "pklis-chd002003.labiac.df.sbrf.ru\n",
      "pklis-chd002004.labiac.df.sbrf.ru\n"
     ]
    }
   ],
   "source": [
    "pyspark_dir = f\"{home_dir}/.local/lib/python3.6/site-packages/pyspark\"\n",
    "logstash_lib = '/opt/logstash/tumanov_libs'\n",
    "local_lib = f\"{home_dir}/.local/lib/python3.6\"\n",
    "\n",
    "for chdNode in chdNodesList[0:]:\n",
    "    # if chdNode != 'pklis-chd002002.labiac.df.sbrf.ru':\n",
    "    #     continue\n",
    "\n",
    "    print(chdNode)\n",
    "    _ssh = Ssh(username=__username, password=__pass, host=chdNode, verbosity=0)\n",
    "    _ssh.setup()\n",
    "\n",
    "#     remote_command(_ssh, 'rm -f .bashrc')\n",
    "#     remote_command(_ssh, 'mkdir -p bin')\n",
    "#     _ssh.putFiles(home_dir, home_dir, 'pip.conf', destFolderName='')\n",
    "#     _ssh.putFiles(home_dir, home_dir, 'py36.sh', destFolderName='')\n",
    "    _ssh.putFiles(home_dir, home_dir, '.bash_profile', destFolderName='')\n",
    "#     remote_command(_ssh, 'bash ./py36.sh')\n",
    "#     remote_output(_ssh, 'source .bash_profile; echo $PATH')\n",
    "\n",
    "#     remote_command(_ssh, 'source .bash_profile; python36 -m pip install -U pip')\n",
    "\n",
    "#     remote_command(_ssh, f'mkdir -p {logstash_lib}')\n",
    "#     remote_command(_ssh, f'mv {local_lib} {logstash_lib}')\n",
    "#     remote_command(_ssh, f\"ln -s {logstash_lib}/python3.6 {home_dir}/.local/lib\")\n",
    "\n",
    "#     remote_command(_ssh, 'source .bash_profile; python36 -m pip install tsfresh')\n",
    "    # remote_command(_ssh, 'source .bash_profile; python36 -m pip install -U pyarrow')\n",
    "    # remote_command(_ssh, 'source .bash_profile; python36 -m pip install -U dask[dataframe]')\n",
    "\n",
    "#     command = 'source .bash_profile; pip36 uninstall -q pyspark'\n",
    "#     stdin, stdout, stderr = _ssh.ssh.exec_command(command)\n",
    "#     stdin.write('Y')\n",
    "\n",
    "    # remote_command(_ssh, 'source .bash_profile; python36 -m pip install pypandoc')\n",
    "    # remote_command(_ssh, 'source .bash_profile; python36 -m pip install pyspark==2.4.0')\n",
    "\n",
    "    # remote_command(_ssh, 'source .bash_profile; python36 -m pip install -U pandas')\n",
    "    # _ssh.putFiles(pyspark_dir, pyspark_dir, 'worker.py', destFolderName='')"
   ]
  }
 ],
 "metadata": {
  "kernelspec": {
   "display_name": "Python 3",
   "language": "python",
   "name": "python3"
  },
  "language_info": {
   "codemirror_mode": {
    "name": "ipython",
    "version": 3
   },
   "file_extension": ".py",
   "mimetype": "text/x-python",
   "name": "python",
   "nbconvert_exporter": "python",
   "pygments_lexer": "ipython3",
   "version": "3.6.3"
  }
 },
 "nbformat": 4,
 "nbformat_minor": 5
}
